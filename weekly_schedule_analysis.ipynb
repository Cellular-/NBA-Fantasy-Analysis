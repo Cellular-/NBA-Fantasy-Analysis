{
 "cells": [
  {
   "cell_type": "code",
   "execution_count": null,
   "metadata": {},
   "outputs": [],
   "source": [
    "import pandas as pd, time\n",
    "\n",
    "# Make jupyter notebook cells wider\n",
    "from IPython.core.display import display, HTML\n",
    "display(HTML(\"<style>.container { width:90% !important; }</style>\"))"
   ]
  },
  {
   "cell_type": "code",
   "execution_count": null,
   "metadata": {},
   "outputs": [],
   "source": [
    "# Number of games per week by team for 2020-2021 NBA season\n",
    "sched = pd.read_excel('csv/weekly_schedule.xlsx')"
   ]
  },
  {
   "cell_type": "code",
   "execution_count": null,
   "metadata": {},
   "outputs": [],
   "source": [
    "nba_teams = sched.columns.to_list()[3:] # Pull teams from dataframe columns\n",
    "playoff_games_by_team_week = []\n",
    "\n",
    "for team in nba_teams:\n",
    "    playoff_games_by_team_week.append([team] + sched.query(\"Week >= 19\")[team].to_list())\n",
    "    \n",
    "playoff_games_weekly = pd.DataFrame(playoff_games_by_team_week, columns=['TEAM', 'Week1', 'Week2', 'Week3'])\n",
    "playoff_games_weekly['Week1/2'] = playoff_games_weekly['Week1'] + playoff_games_weekly['Week2']\n",
    "playoff_games_weekly['Week2/3'] = playoff_games_weekly['Week2'] + playoff_games_weekly['Week3']\n",
    "playoff_games_weekly['Week1/3'] = playoff_games_weekly['Week1'] + playoff_games_weekly['Week3']\n",
    "\n",
    "# List of lists that contain team abbreviation, and number of games for playoffs week 1, 2, 3\n",
    "playoff_games_by_team_week[:5]"
   ]
  },
  {
   "cell_type": "code",
   "execution_count": null,
   "metadata": {},
   "outputs": [],
   "source": [
    "# Data from hashtagbasketball uses non-standard team abbreviations so they'll be replaced later on.\n",
    "team_name_map = {'BRO': 'BKN',\n",
    "                 'PHX': 'PHO',\n",
    "                 'NOP': 'NOR',\n",
    "                 'OKL': 'OKC'}\n",
    "\n",
    "# Dict that maps team name to abbreviation\n",
    "team_name_to_abbv = {'Atlanta': 'ATL',\n",
    " 'Boston': 'BOS',\n",
    " 'Brooklyn': 'BKN',\n",
    " 'Charlotte': 'CHA',\n",
    " 'Chicago': 'CHI',\n",
    " 'Cleveland': 'CLE',\n",
    " 'Dallas': 'DAL',\n",
    " 'Denver': 'DEN',\n",
    " 'Detroit': 'DET',\n",
    " 'Golden State': 'GSW',\n",
    " 'Houston': 'HOU',\n",
    " 'Indiana': 'IND',\n",
    " 'LA Clippers': 'LAC',\n",
    " 'LA Lakers': 'LAL',\n",
    " 'Memphis': 'MEM',\n",
    " 'Miami': 'MIA',\n",
    " 'Milwaukee': 'MIL',\n",
    " 'Minnesota': 'MIN',\n",
    " 'New Orleans': 'NOR',\n",
    " 'New York': 'NYK',\n",
    " 'Oklahoma City': 'OKC',\n",
    " 'Orlando': 'ORL',\n",
    " 'Philadelphia': 'PHI',\n",
    " 'Phoenix': 'PHO',\n",
    " 'Portland': 'POR',\n",
    " 'Sacramento': 'SAC',\n",
    " 'San Antonio': 'SAS',\n",
    " 'Toronto': 'TOR',\n",
    " 'Utah': 'UTA',\n",
    " 'Washington': 'WAS'}"
   ]
  },
  {
   "cell_type": "code",
   "execution_count": null,
   "metadata": {},
   "outputs": [],
   "source": [
    "sched.iloc[:, :3].head() # All teams share these same 3 columns"
   ]
  },
  {
   "cell_type": "code",
   "execution_count": null,
   "metadata": {},
   "outputs": [],
   "source": [
    "\"\"\"Extract these common columns. Will be used tranpose the data.\"\"\"\n",
    "base_sched = sched.iloc[:, :3]"
   ]
  },
  {
   "cell_type": "code",
   "execution_count": null,
   "metadata": {
    "scrolled": false
   },
   "outputs": [],
   "source": [
    "schedule_by_team = []\n",
    "\n",
    "def process_schedule(df, team):\n",
    "    # Horizontally join the base schedule with the team's number of games\n",
    "    team_sched = pd.concat([base_sched, df], axis=1)\n",
    "    # Rename columns\n",
    "    team_sched.columns = ['Week_Type', 'Week', 'Date', 'Number_of_Games']\n",
    "    # Add new team column\n",
    "    team_sched['Team'] = team\n",
    "    # Append to list used to concat all teams schedules into one dataframe\n",
    "    schedule_by_team.append(team_sched)\n",
    "\n",
    "[process_schedule(sched[team], team) for team in nba_teams]\n",
    "\n",
    "len(schedule_by_team) == 30 # Should be 30 entries"
   ]
  },
  {
   "cell_type": "code",
   "execution_count": null,
   "metadata": {},
   "outputs": [],
   "source": [
    "\"\"\"Vertically append all teams schedules into one dataframe. Now\n",
    "the data looks more relational instead of like a pivot table.\n",
    "\"\"\"\n",
    "final_schedule = pd.concat(schedule_by_team)"
   ]
  },
  {
   "cell_type": "code",
   "execution_count": null,
   "metadata": {},
   "outputs": [],
   "source": [
    "final_schedule.to_csv('weekly_schedule_transposed.csv', index=False)"
   ]
  },
  {
   "cell_type": "markdown",
   "metadata": {},
   "source": [
    "### Maxmimum number of games"
   ]
  },
  {
   "cell_type": "markdown",
   "metadata": {},
   "source": [
    "#### Teams and weeks with maximum number of games"
   ]
  },
  {
   "cell_type": "code",
   "execution_count": null,
   "metadata": {},
   "outputs": [],
   "source": [
    "max_games = max(final_schedule['Number_of_Games'])\n",
    "\n",
    "max_games"
   ]
  },
  {
   "cell_type": "code",
   "execution_count": null,
   "metadata": {},
   "outputs": [],
   "source": [
    "final_schedule.query('Number_of_Games == @max_games')"
   ]
  },
  {
   "cell_type": "markdown",
   "metadata": {},
   "source": [
    "#### Teams and weeks with maximum number of playoff games"
   ]
  },
  {
   "cell_type": "code",
   "execution_count": null,
   "metadata": {},
   "outputs": [],
   "source": [
    "max_playoff_games = max(final_schedule.query(\"Week_Type == 'playoffs'\")['Number_of_Games'])\n",
    "\n",
    "max_playoff_games"
   ]
  },
  {
   "cell_type": "code",
   "execution_count": null,
   "metadata": {},
   "outputs": [],
   "source": [
    "final_schedule.query(\"Number_of_Games == @max_playoff_games and Week_Type == 'playoffs'\")"
   ]
  },
  {
   "cell_type": "code",
   "execution_count": null,
   "metadata": {},
   "outputs": [],
   "source": [
    "column_renames = {'Number_of_Games': 'Total Playoff Games', 'Team': 'TEAM'}\n",
    "\n",
    "total_playoff_games_by_team = final_schedule[['Team', 'Week', 'Number_of_Games']].query(\"Week >= 19\")\\\n",
    ".groupby(by=['Team']).sum().reset_index().rename(columns=column_renames)\n",
    "\n",
    "total_playoff_games_by_team[['TEAM', 'Total Playoff Games']]\\\n",
    ".reset_index()\\\n",
    ".set_index('TEAM')\\\n",
    ".join(playoff_games_weekly.set_index('TEAM'))\\\n",
    ".reset_index()\\\n",
    ".drop(columns=['index'])\\\n",
    ".sort_values(by=['Total Playoff Games', 'Week1', 'Week2', 'Week3'], ascending=False)\\\n",
    ".style.background_gradient(cmap='RdYlGn')"
   ]
  },
  {
   "cell_type": "markdown",
   "metadata": {},
   "source": [
    "### Player projections for 2020-2021 season"
   ]
  },
  {
   "cell_type": "code",
   "execution_count": null,
   "metadata": {},
   "outputs": [],
   "source": [
    "from bs4 import BeautifulSoup\n",
    "from urllib.request import Request, urlopen\n",
    "\n",
    "def html_table_to_df(url, css_id):\n",
    "    \n",
    "    site = url\n",
    "    hdr  = {'User-Agent': 'Mozilla/5.0'}\n",
    "    req  = Request(site,headers=hdr)\n",
    "    page = urlopen(req)\n",
    "    time.sleep(5)\n",
    "    soup = BeautifulSoup(page)\n",
    "\n",
    "    html_table = soup.find(id = css_id)\n",
    "    df = pd.read_html(html_table.decode())\n",
    "    \n",
    "    return df\n",
    "    \n",
    "player_projections = html_table_to_df('https://hashtagbasketball.com/fantasy-basketball-points-league-rankings', 'ContentPlaceHolder1_GridView1')"
   ]
  },
  {
   "cell_type": "code",
   "execution_count": null,
   "metadata": {},
   "outputs": [],
   "source": [
    "cols_to_rename = {'R#': 'Per Game Rank', \n",
    "        'NAME': 'Player', \n",
    "        'TOTAL': 'Per Game Avg', \n",
    "        'Total_Playoff_Games': 'Total Playoff Games',\n",
    "        'POS': 'Position'}\n",
    "\n",
    "def fix_team_name(team):\n",
    "    if team in team_name_map.keys():\n",
    "        return team_name_map[team]\n",
    "    \n",
    "    return team\n",
    "\n",
    "# Standardize team names\n",
    "player_projections[0]['TEAM'] = player_projections[0]['TEAM'].apply(fix_team_name)\n",
    "\n",
    "players_projection_games = player_projections[0].set_index('TEAM')\\\n",
    ".join(total_playoff_games_by_team.set_index('TEAM'))\\\n",
    ".reset_index()\\\n",
    ".rename(columns=cols_to_rename)\\\n",
    ".drop(columns=['Week'])\\\n",
    ".query(\"TEAM != 'TEAM'\") # Filter out the filler rows that hashtagbasketball puts in their tables\n",
    "\n",
    "players_projection_games.to_csv('players_projection_games.csv', index=False)\n",
    "players_projection_games.query(\"TEAM == 'ATL'\").head()\n",
    "\n",
    "convert_to_num_cols = ['Per Game Avg', 'GP', 'PTS', 'TREB', 'AST', 'STL', 'BLK', 'TO']\n",
    "column_order = ['TEAM', 'Player', 'Position', 'Per Game Rank']\\\n",
    "               + convert_to_num_cols + ['Total Playoff Games', 'Week1', 'Week2', 'Week3', 'Week1/2', 'Week2/3', 'Week1/3']\n",
    "\n",
    "players_projection_games[convert_to_num_cols] = players_projection_games[convert_to_num_cols].apply(pd.to_numeric)"
   ]
  },
  {
   "cell_type": "markdown",
   "metadata": {},
   "source": [
    "### Number of back to backs by team"
   ]
  },
  {
   "cell_type": "code",
   "execution_count": null,
   "metadata": {},
   "outputs": [],
   "source": [
    "b2b_by_team = html_table_to_df('https://www.nbastuffer.com/2020-2021-nba-schedule-rest-days-analysis/', 'tablepress-61')"
   ]
  },
  {
   "cell_type": "code",
   "execution_count": null,
   "metadata": {},
   "outputs": [],
   "source": [
    "b2bs_by_team = b2b_by_team[0].reset_index().drop(columns=['RANK'])\n",
    "b2bs_by_team['TEAMS'] = b2bs_by_team['TEAMS'].apply(lambda team: team_name_to_abbv[team])\n",
    "\n",
    "b2bs_by_team.head()"
   ]
  },
  {
   "cell_type": "markdown",
   "metadata": {},
   "source": [
    "### Interactive table"
   ]
  },
  {
   "cell_type": "code",
   "execution_count": null,
   "metadata": {},
   "outputs": [],
   "source": [
    "from itables import show\n",
    "\n",
    "final = players_projection_games.set_index('TEAM')\\\n",
    ".join(playoff_games_weekly.set_index('TEAM'))\\\n",
    "\n",
    "show(final\\\n",
    ".reset_index()\\\n",
    "[column_order]\\\n",
    ")"
   ]
  },
  {
   "cell_type": "markdown",
   "metadata": {},
   "source": [
    "### Full dataframe of joined player projections and playoff games data"
   ]
  },
  {
   "cell_type": "code",
   "execution_count": null,
   "metadata": {
    "scrolled": false
   },
   "outputs": [],
   "source": [
    "sorting_config = {'a': \n",
    "                        {'by': ['Per Game Avg'],\n",
    "                         'ascending': [False]\n",
    "                    }\n",
    "                 }\n",
    "\n",
    "float_cols = [key for key, value in dict(final.dtypes).items() if str(value) == \"float64\"]\n",
    "\n",
    "final[convert_to_num_cols] = final[convert_to_num_cols].round(2)\n",
    "\n",
    "final\\\n",
    ".reset_index()\\\n",
    "[column_order]\\\n",
    ".to_csv('final.csv')\n",
    "#.sort_values(**sorting_config['a'])\\\n",
    "#.style.background_gradient(cmap='RdYlGn')"
   ]
  }
 ],
 "metadata": {
  "kernelspec": {
   "display_name": "nba-fantasy-analysis",
   "language": "python",
   "name": "nba-fantasy-analysis"
  },
  "language_info": {
   "codemirror_mode": {
    "name": "ipython",
    "version": 3
   },
   "file_extension": ".py",
   "mimetype": "text/x-python",
   "name": "python",
   "nbconvert_exporter": "python",
   "pygments_lexer": "ipython3",
   "version": "3.8.5"
  }
 },
 "nbformat": 4,
 "nbformat_minor": 2
}
